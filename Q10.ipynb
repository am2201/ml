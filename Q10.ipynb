{
 "cells": [
  {
   "cell_type": "code",
   "execution_count": 5,
   "id": "5f3dbb73-2499-4a3b-b809-d500a8a5bfc6",
   "metadata": {},
   "outputs": [],
   "source": [
    "import numpy as np\n",
    "from sklearn.model_selection import train_test_split"
   ]
  },
  {
   "cell_type": "code",
   "execution_count": 6,
   "id": "5c1119f4-4698-464f-a659-f2752da4ceb7",
   "metadata": {},
   "outputs": [],
   "source": [
    "class LinRegGD:\n",
    "    def __init__(self, learning_rate=0.01, num_iterations=1000):\n",
    "        self.learning_rate = learning_rate\n",
    "        self.num_iterations = num_iterations\n",
    "        self.weights = None\n",
    "        self.bias = None\n",
    "\n",
    "    def fit(self, X, y):\n",
    "        # Initialize weights and bias\n",
    "        num_samples, num_features = X.shape\n",
    "        self.weights = np.zeros(num_features)\n",
    "        self.bias = 0\n",
    "\n",
    "        # Gradient Descent\n",
    "        for _ in range(self.num_iterations):\n",
    "            y_pred = self.predict(X)\n",
    "            gradient_weights = (1 / num_samples) * np.dot(X.T, (y_pred - y))\n",
    "            gradient_bias = (1 / num_samples) * np.sum(y_pred - y)\n",
    "\n",
    "            # Update weights and bias\n",
    "            self.weights -= self.learning_rate * gradient_weights\n",
    "            self.bias -= self.learning_rate * gradient_bias\n",
    "\n",
    "    def predict(self, X):\n",
    "        return np.dot(X, self.weights) + self.bias\n",
    "\n",
    "    def mse(self, y_true, y_pred):\n",
    "        return np.mean((y_true - y_pred) ** 2)\n",
    "\n",
    "    def r2(self, y_true, y_pred):\n",
    "        ss_total = np.sum((y_true - np.mean(y_true)) ** 2)\n",
    "        ss_residual = np.sum((y_true - y_pred) ** 2)\n",
    "        return 1 - (ss_residual / ss_total)"
   ]
  },
  {
   "cell_type": "code",
   "execution_count": 7,
   "id": "88a53a3f-4707-4802-b3bc-0d0c8f288264",
   "metadata": {},
   "outputs": [
    {
     "name": "stdout",
     "output_type": "stream",
     "text": [
      "Mean Squared Error (MSE) on testing data: 0.2718\n",
      "R-squared (R2) on testing data: 0.5916\n"
     ]
    }
   ],
   "source": [
    "from sklearn.datasets import load_iris\n",
    "# Load the Iris dataset\n",
    "iris = load_iris()\n",
    "X = iris.data[:, 3]  # Petal width (feature)\n",
    "y = iris.data[:, 0]  # Sepal length (target)\n",
    "\n",
    "# Split data into training and testing sets\n",
    "X_train, X_test, y_train, y_test = train_test_split(X.reshape(-1, 1), y, test_size=0.3, random_state=42)\n",
    "\n",
    "# Create and train the LinearRegressionGD model\n",
    "model = LinRegGD(learning_rate=0.01, num_iterations=1000)\n",
    "model.fit(X_train, y_train)\n",
    "\n",
    "# Make predictions\n",
    "y_pred_test = model.predict(X_test)\n",
    "\n",
    "# Calculate MSE and R2\n",
    "mse_test = model.mse(y_test, y_pred_test)\n",
    "r2_test = model.r2(y_test, y_pred_test)\n",
    "\n",
    "print(f\"Mean Squared Error (MSE) on testing data: {mse_test:.4f}\")\n",
    "print(f\"R-squared (R2) on testing data: {r2_test:.4f}\")"
   ]
  },
  {
   "cell_type": "code",
   "execution_count": null,
   "id": "f79c1a8b-7402-49fe-bffc-4273c3f09440",
   "metadata": {},
   "outputs": [],
   "source": []
  }
 ],
 "metadata": {
  "kernelspec": {
   "display_name": "Python 3 (ipykernel)",
   "language": "python",
   "name": "python3"
  },
  "language_info": {
   "codemirror_mode": {
    "name": "ipython",
    "version": 3
   },
   "file_extension": ".py",
   "mimetype": "text/x-python",
   "name": "python",
   "nbconvert_exporter": "python",
   "pygments_lexer": "ipython3",
   "version": "3.11.4"
  }
 },
 "nbformat": 4,
 "nbformat_minor": 5
}
