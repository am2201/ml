{
 "cells": [
  {
   "cell_type": "code",
   "execution_count": 22,
   "id": "b28fbc25",
   "metadata": {},
   "outputs": [],
   "source": [
    "import numpy as np\n",
    "import pandas as pd\n",
    "import matplotlib.pyplot as plt"
   ]
  },
  {
   "cell_type": "code",
   "execution_count": 23,
   "id": "6f0e4f51",
   "metadata": {},
   "outputs": [
    {
     "data": {
      "text/html": [
       "<div>\n",
       "<style scoped>\n",
       "    .dataframe tbody tr th:only-of-type {\n",
       "        vertical-align: middle;\n",
       "    }\n",
       "\n",
       "    .dataframe tbody tr th {\n",
       "        vertical-align: top;\n",
       "    }\n",
       "\n",
       "    .dataframe thead th {\n",
       "        text-align: right;\n",
       "    }\n",
       "</style>\n",
       "<table border=\"1\" class=\"dataframe\">\n",
       "  <thead>\n",
       "    <tr style=\"text-align: right;\">\n",
       "      <th></th>\n",
       "      <th>Age</th>\n",
       "      <th>Gender</th>\n",
       "      <th>Education Level</th>\n",
       "      <th>Job Title</th>\n",
       "      <th>Years of Experience</th>\n",
       "      <th>Salary</th>\n",
       "    </tr>\n",
       "  </thead>\n",
       "  <tbody>\n",
       "    <tr>\n",
       "      <th>0</th>\n",
       "      <td>32.0</td>\n",
       "      <td>Male</td>\n",
       "      <td>Bachelor's</td>\n",
       "      <td>Software Engineer</td>\n",
       "      <td>5.0</td>\n",
       "      <td>90000.0</td>\n",
       "    </tr>\n",
       "    <tr>\n",
       "      <th>1</th>\n",
       "      <td>28.0</td>\n",
       "      <td>Female</td>\n",
       "      <td>Master's</td>\n",
       "      <td>Data Analyst</td>\n",
       "      <td>3.0</td>\n",
       "      <td>65000.0</td>\n",
       "    </tr>\n",
       "    <tr>\n",
       "      <th>2</th>\n",
       "      <td>45.0</td>\n",
       "      <td>Male</td>\n",
       "      <td>PhD</td>\n",
       "      <td>Senior Manager</td>\n",
       "      <td>15.0</td>\n",
       "      <td>150000.0</td>\n",
       "    </tr>\n",
       "    <tr>\n",
       "      <th>3</th>\n",
       "      <td>36.0</td>\n",
       "      <td>Female</td>\n",
       "      <td>Bachelor's</td>\n",
       "      <td>Sales Associate</td>\n",
       "      <td>7.0</td>\n",
       "      <td>60000.0</td>\n",
       "    </tr>\n",
       "    <tr>\n",
       "      <th>4</th>\n",
       "      <td>52.0</td>\n",
       "      <td>Male</td>\n",
       "      <td>Master's</td>\n",
       "      <td>Director</td>\n",
       "      <td>20.0</td>\n",
       "      <td>200000.0</td>\n",
       "    </tr>\n",
       "    <tr>\n",
       "      <th>...</th>\n",
       "      <td>...</td>\n",
       "      <td>...</td>\n",
       "      <td>...</td>\n",
       "      <td>...</td>\n",
       "      <td>...</td>\n",
       "      <td>...</td>\n",
       "    </tr>\n",
       "    <tr>\n",
       "      <th>369</th>\n",
       "      <td>35.0</td>\n",
       "      <td>Female</td>\n",
       "      <td>Bachelor's</td>\n",
       "      <td>Senior Marketing Analyst</td>\n",
       "      <td>8.0</td>\n",
       "      <td>85000.0</td>\n",
       "    </tr>\n",
       "    <tr>\n",
       "      <th>370</th>\n",
       "      <td>43.0</td>\n",
       "      <td>Male</td>\n",
       "      <td>Master's</td>\n",
       "      <td>Director of Operations</td>\n",
       "      <td>19.0</td>\n",
       "      <td>170000.0</td>\n",
       "    </tr>\n",
       "    <tr>\n",
       "      <th>371</th>\n",
       "      <td>29.0</td>\n",
       "      <td>Female</td>\n",
       "      <td>Bachelor's</td>\n",
       "      <td>Junior Project Manager</td>\n",
       "      <td>2.0</td>\n",
       "      <td>40000.0</td>\n",
       "    </tr>\n",
       "    <tr>\n",
       "      <th>372</th>\n",
       "      <td>34.0</td>\n",
       "      <td>Male</td>\n",
       "      <td>Bachelor's</td>\n",
       "      <td>Senior Operations Coordinator</td>\n",
       "      <td>7.0</td>\n",
       "      <td>90000.0</td>\n",
       "    </tr>\n",
       "    <tr>\n",
       "      <th>373</th>\n",
       "      <td>44.0</td>\n",
       "      <td>Female</td>\n",
       "      <td>PhD</td>\n",
       "      <td>Senior Business Analyst</td>\n",
       "      <td>15.0</td>\n",
       "      <td>150000.0</td>\n",
       "    </tr>\n",
       "  </tbody>\n",
       "</table>\n",
       "<p>374 rows × 6 columns</p>\n",
       "</div>"
      ],
      "text/plain": [
       "      Age  Gender Education Level                      Job Title  \\\n",
       "0    32.0    Male      Bachelor's              Software Engineer   \n",
       "1    28.0  Female        Master's                   Data Analyst   \n",
       "2    45.0    Male             PhD                 Senior Manager   \n",
       "3    36.0  Female      Bachelor's                Sales Associate   \n",
       "4    52.0    Male        Master's                       Director   \n",
       "..    ...     ...             ...                            ...   \n",
       "369  35.0  Female      Bachelor's       Senior Marketing Analyst   \n",
       "370  43.0    Male        Master's         Director of Operations   \n",
       "371  29.0  Female      Bachelor's         Junior Project Manager   \n",
       "372  34.0    Male      Bachelor's  Senior Operations Coordinator   \n",
       "373  44.0  Female             PhD        Senior Business Analyst   \n",
       "\n",
       "     Years of Experience    Salary  \n",
       "0                    5.0   90000.0  \n",
       "1                    3.0   65000.0  \n",
       "2                   15.0  150000.0  \n",
       "3                    7.0   60000.0  \n",
       "4                   20.0  200000.0  \n",
       "..                   ...       ...  \n",
       "369                  8.0   85000.0  \n",
       "370                 19.0  170000.0  \n",
       "371                  2.0   40000.0  \n",
       "372                  7.0   90000.0  \n",
       "373                 15.0  150000.0  \n",
       "\n",
       "[374 rows x 6 columns]"
      ]
     },
     "execution_count": 23,
     "metadata": {},
     "output_type": "execute_result"
    }
   ],
   "source": [
    "data = pd.read_csv(\"Salary Data.csv\")\n",
    "data"
   ]
  },
  {
   "cell_type": "code",
   "execution_count": 24,
   "id": "36d27db4",
   "metadata": {},
   "outputs": [],
   "source": [
    "x = data.iloc[:,4]\n",
    "y = data.iloc[:,-1]"
   ]
  },
  {
   "cell_type": "code",
   "execution_count": 25,
   "id": "4413b73d",
   "metadata": {},
   "outputs": [],
   "source": [
    "from sklearn.model_selection import train_test_split\n",
    "x_train, x_test, y_train, y_test = train_test_split(x,y, test_size=0.2, random_state=1)"
   ]
  },
  {
   "cell_type": "code",
   "execution_count": 26,
   "id": "b1b5dc32",
   "metadata": {},
   "outputs": [],
   "source": [
    "class OLS:\n",
    "    x_mean = 0\n",
    "    y_mean = 0\n",
    "    beta_0 = 0\n",
    "    beta_1 = 0\n",
    "    \n",
    "    def fit(self, x_train, y_train):\n",
    "        x_mean = np.mean(x_train)\n",
    "        y_mean = np.mean(y_train)\n",
    "        \n",
    "        x_minus_x_mean = x_train - x_mean\n",
    "        y_minus_y_mean = y_train - y_mean\n",
    "        \n",
    "        prod = x_minus_x_mean*y_minus_y_mean\n",
    "        prod_sum = np.sum(prod)\n",
    "        \n",
    "        x_minus_x_mean_WSQ = np.square(x_minus_x_mean)\n",
    "        \n",
    "        x_minus_x_mean_WSQ_sum = np.sum(x_minus_x_mean_WSQ)\n",
    "        \n",
    "        self.beta_1 = prod_sum/x_minus_x_mean_WSQ_sum\n",
    "        self.beta_0 = y_mean - (self.beta_1*x_mean)\n",
    "        \n",
    "        return self.beta_1, self.beta_0\n",
    "    \n",
    "    def predict(self, x_test):\n",
    "        y_pred = []\n",
    "        for i in x_test:\n",
    "            y_pred.append(self.beta_0 + (self.beta_1*i))\n",
    "        return np.array(y_pred)"
   ]
  },
  {
   "cell_type": "code",
   "execution_count": 27,
   "id": "908de98a",
   "metadata": {},
   "outputs": [],
   "source": [
    "predictor = OLS()\n",
    "coeff = predictor.fit(x_train, y_train)\n",
    "y_pred = predictor.predict(x_test)"
   ]
  },
  {
   "cell_type": "code",
   "execution_count": 28,
   "id": "cc765b22",
   "metadata": {},
   "outputs": [
    {
     "data": {
      "text/plain": [
       "(6720.23737960371, 33339.59850226411)"
      ]
     },
     "execution_count": 28,
     "metadata": {},
     "output_type": "execute_result"
    }
   ],
   "source": [
    "coeff"
   ]
  },
  {
   "cell_type": "code",
   "execution_count": 29,
   "id": "9cab0699",
   "metadata": {},
   "outputs": [
    {
     "data": {
      "text/plain": [
       "array([ 66940.78540028, 100541.9722983 , 147583.63395553, 100541.9722983 ,\n",
       "       107262.2096779 ,  80381.26015949, 154303.87133513, 167744.34609434,\n",
       "       100541.9722983 ,  53500.31064108,  87101.49753909,  46780.07326147,\n",
       "        43419.95457167,  66940.78540028,  46780.07326147,  46780.07326147,\n",
       "       140863.39657592, 113982.44705751, 174464.58347394,  53500.31064108,\n",
       "       113982.44705751, 161024.10871473,  60220.54802068, 140863.39657592,\n",
       "       134143.15919632, 167744.34609434,  80381.26015949,  53500.31064108,\n",
       "        46780.07326147,  66940.78540028,  53500.31064108,  46780.07326147,\n",
       "       140863.39657592, 167744.34609434,  73661.02277989, 161024.10871473,\n",
       "       147583.63395553,  73661.02277989, 113982.44705751,  93821.7349187 ,\n",
       "        87101.49753909,  53500.31064108, 113982.44705751, 134143.15919632,\n",
       "        80381.26015949, 154303.87133513, 120702.68443711,  33339.59850226,\n",
       "       140863.39657592, 161024.10871473, 134143.15919632, 120702.68443711,\n",
       "       154303.87133513,  53500.31064108,  53500.31064108,  46780.07326147,\n",
       "       113982.44705751,  87101.49753909, 167744.34609434,  40059.83588187,\n",
       "       174464.58347394, 100541.9722983 ,  46780.07326147, 174464.58347394,\n",
       "       127422.92181672,  87101.49753909,  43419.95457167,  73661.02277989,\n",
       "       113982.44705751,  46780.07326147, 167744.34609434,  80381.26015949,\n",
       "        93821.7349187 , 140863.39657592,  33339.59850226])"
      ]
     },
     "execution_count": 29,
     "metadata": {},
     "output_type": "execute_result"
    }
   ],
   "source": [
    "y_pred"
   ]
  },
  {
   "cell_type": "code",
   "execution_count": 30,
   "id": "eaa2c748",
   "metadata": {},
   "outputs": [
    {
     "data": {
      "text/plain": [
       "67      45000.0\n",
       "318    120000.0\n",
       "275    160000.0\n",
       "260    120000.0\n",
       "90     120000.0\n",
       "         ...   \n",
       "78     180000.0\n",
       "175     85000.0\n",
       "268    110000.0\n",
       "331    160000.0\n",
       "82      30000.0\n",
       "Name: Salary, Length: 75, dtype: float64"
      ]
     },
     "execution_count": 30,
     "metadata": {},
     "output_type": "execute_result"
    }
   ],
   "source": [
    "y_test"
   ]
  },
  {
   "cell_type": "code",
   "execution_count": 31,
   "id": "d5c5cdfe",
   "metadata": {},
   "outputs": [
    {
     "data": {
      "text/plain": [
       "242931056.39934912"
      ]
     },
     "execution_count": 31,
     "metadata": {},
     "output_type": "execute_result"
    }
   ],
   "source": [
    "from sklearn.metrics import mean_squared_error\n",
    "a = mean_squared_error(y_test, y_pred)\n",
    "a"
   ]
  },
  {
   "cell_type": "code",
   "execution_count": 32,
   "id": "36c6c2be",
   "metadata": {},
   "outputs": [
    {
     "data": {
      "text/plain": [
       "0.9038778296341599"
      ]
     },
     "execution_count": 32,
     "metadata": {},
     "output_type": "execute_result"
    }
   ],
   "source": [
    "from sklearn.metrics import r2_score\n",
    "r2 = r2_score(y_test, y_pred)\n",
    "r2"
   ]
  },
  {
   "cell_type": "code",
   "execution_count": 21,
   "id": "121a80a6",
   "metadata": {},
   "outputs": [
    {
     "name": "stderr",
     "output_type": "stream",
     "text": [
      "No artists with labels found to put in legend.  Note that artists whose label start with an underscore are ignored when legend() is called with no argument.\n"
     ]
    },
    {
     "data": {
      "image/png": "[encoded data removed]",
      "text/plain": [
       "<Figure size 640x480 with 1 Axes>"
      ]
     },
     "metadata": {},
     "output_type": "display_data"
    }
   ],
   "source": [
    "plt.plot(x_test, y_pred, c='black')\n",
    "plt.scatter(x_test, y_test, c='red')\n",
    "plt.xlim(0.0, 25.0)\n",
    "plt.ylim(0.0, 250000.0)\n",
    "plt.legend()\n",
    "plt.show()"
   ]
  },
  {
   "cell_type": "code",
   "execution_count": null,
   "id": "94eac743",
   "metadata": {},
   "outputs": [],
   "source": []
  }
 ],
 "metadata": {
  "kernelspec": {
   "display_name": "Python 3 (ipykernel)",
   "language": "python",
   "name": "python3"
  },
  "language_info": {
   "codemirror_mode": {
    "name": "ipython",
    "version": 3
   },
   "file_extension": ".py",
   "mimetype": "text/x-python",
   "name": "python",
   "nbconvert_exporter": "python",
   "pygments_lexer": "ipython3",
   "version": "3.11.4"
  }
 },
 "nbformat": 4,
 "nbformat_minor": 5
}
