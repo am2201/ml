{
 "cells": [
  {
   "cell_type": "code",
   "execution_count": 13,
   "id": "3a5f1899-ff6b-4469-b9b0-6a27d810c170",
   "metadata": {},
   "outputs": [],
   "source": [
    "import numpy as np\n",
    "import pandas as pd\n",
    "import matplotlib.pyplot as plt\n",
    "from sklearn.model_selection import train_test_split\n",
    "from sklearn.metrics import accuracy_score, confusion_matrix\n",
    "from sklearn.datasets import load_breast_cancer\n",
    "from sklearn.preprocessing import StandardScaler"
   ]
  },
  {
   "cell_type": "code",
   "execution_count": 14,
   "id": "c2d263b0-4b2b-4450-aa27-a56794a573ba",
   "metadata": {},
   "outputs": [],
   "source": [
    "breast_cancer_dataset = load_breast_cancer()\n",
    "breast_cancer = pd.DataFrame(breast_cancer_dataset.data, columns=breast_cancer_dataset.feature_names)\n",
    "breast_cancer['result'] = breast_cancer_dataset['target']\n",
    "\n",
    "# Split the dataset into features (X) and target (y)\n",
    "X = breast_cancer.drop(columns=['result'])\n",
    "y = breast_cancer['result']"
   ]
  },
  {
   "cell_type": "code",
   "execution_count": 15,
   "id": "307dee9f-f973-446f-97d7-d03f2985f286",
   "metadata": {},
   "outputs": [],
   "source": [
    "# Splitting the dataset into training and testing subsets\n",
    "X_train, X_test, y_train, y_test = train_test_split(X, y, test_size=0.3, random_state=42)"
   ]
  },
  {
   "cell_type": "code",
   "execution_count": 16,
   "id": "2a20dc76-24b7-4de2-921c-2a1ef929d090",
   "metadata": {},
   "outputs": [],
   "source": [
    "scaler = StandardScaler()\n",
    "X_train_scaled = scaler.fit_transform(X_train)\n",
    "X_test_scaled = scaler.transform(X_test)"
   ]
  },
  {
   "cell_type": "code",
   "execution_count": 17,
   "id": "b584124e-281b-43d1-b88d-aaa93c24ed80",
   "metadata": {},
   "outputs": [],
   "source": [
    "#X_train_scaled"
   ]
  },
  {
   "cell_type": "code",
   "execution_count": 26,
   "id": "9e6193d1-16b2-4699-9b0f-7be89b5d192b",
   "metadata": {},
   "outputs": [],
   "source": [
    "# Logistic Regression implementation\n",
    "def sigmoid(z):\n",
    "    return 1 / (1 + np.exp(-np.clip(z, -500, 500)))\n",
    "\n",
    "def predict(X, weights, bias):\n",
    "    z = np.dot(X, weights) + bias\n",
    "    return (sigmoid(z) >= 0.5).astype(int)\n",
    "    \n",
    "#def train_log_reg(X, y, learning_rate=0.01, num_iterations=755):\n",
    "#    m, n = X.shape\n",
    "#    weights = np.zeros(n)\n",
    "#    bias = 0\n",
    "#\n",
    "#    for _ in range(num_iterations):\n",
    "#        z = np.dot(X, weights) + bias\n",
    "#        predictions = sigmoid(z)\n",
    "#        gradient_weights = np.dot(X.T, (predictions - y)) / m\n",
    "#        gradient_bias = np.sum(predictions - y) / m\n",
    "#        weights -= learning_rate * gradient_weights\n",
    "#        bias -= learning_rate * gradient_bias\n",
    "#\n",
    "#    return weights, bias\n",
    "def train_log_reg(X_train, y_train, X_test, y_test, learning_rate=0.01, num_iterations=5):\n",
    "    m, n = X_train.shape\n",
    "    weights = np.zeros(n)\n",
    "    bias = 0\n",
    "    train_accuracies = []\n",
    "    test_accuracies = []\n",
    "\n",
    "    for _ in range(num_iterations):\n",
    "        z_train = np.dot(X_train, weights) + bias\n",
    "        predictions_train = sigmoid(z_train)\n",
    "        gradient_weights = np.dot(X_train.T, (predictions_train - y_train)) / m\n",
    "        gradient_bias = np.sum(predictions_train - y_train) / m\n",
    "        weights -= learning_rate * gradient_weights\n",
    "        bias -= learning_rate * gradient_bias\n",
    "\n",
    "        # Calculate accuracy on the training set\n",
    "        y_pred_train = predict(X_train, weights, bias)\n",
    "        train_accuracy = accuracy_score(y_train, y_pred_train)\n",
    "        train_accuracies.append(train_accuracy)\n",
    "\n",
    "        # Calculate accuracy on the testing set\n",
    "        y_pred_test = predict(X_test, weights, bias)\n",
    "        test_accuracy = accuracy_score(y_test, y_pred_test)\n",
    "        test_accuracies.append(test_accuracy)\n",
    "\n",
    "    return weights, bias, train_accuracies, test_accuracies"
   ]
  },
  {
   "cell_type": "code",
   "execution_count": 27,
   "id": "103c1d7d-05ef-4b6c-8353-82161eb8661f",
   "metadata": {},
   "outputs": [
    {
     "name": "stdout",
     "output_type": "stream",
     "text": [
      "[1 0 0 1 1 0 0 0 0 1 1 0 1 0 1 0 1 1 1 0 1 1 0 1 1 1 1 1 1 0 1 1 1 1 1 1 0\n",
      " 1 0 1 1 0 1 1 1 1 1 1 1 1 0 0 1 1 1 1 1 0 0 1 1 0 0 1 1 1 0 0 1 1 0 0 1 0\n",
      " 1 1 1 0 1 1 0 1 0 0 0 0 0 0 1 1 1 1 1 1 1 1 0 0 1 0 0 1 0 0 1 1 1 0 1 1 0\n",
      " 1 1 0 1 0 1 1 1 0 1 1 1 0 1 0 0 1 1 0 0 0 1 1 1 0 1 1 0 0 1 0 1 1 0 1 0 0\n",
      " 0 1 0 1 1 1 1 0 0 1 1 1 1 1 1 1 0 1 1 1 1 0 1]\n"
     ]
    }
   ],
   "source": [
    "# Train the model\n",
    "weights, bias, train_accuracies, test_accuracies = train_log_reg(X_train_scaled, y_train, X_test_scaled, y_test)\n",
    "\n",
    "# Predictions on test set\n",
    "y_pred_test = predict(X_test_scaled, weights, bias)\n",
    "print(y_pred_test)\n",
    "\n",
    "#Prediction on train set\n",
    "y_pred_train = predict(X_train, weights, bias)"
   ]
  },
  {
   "cell_type": "code",
   "execution_count": 28,
   "id": "d3b4794f-85f8-47fe-9646-64ba668a1ee1",
   "metadata": {},
   "outputs": [
    {
     "name": "stdout",
     "output_type": "stream",
     "text": [
      "Confusion Matrix (Training):\n",
      " [[149   0]\n",
      " [249   0]]\n",
      "Sensitivity (Training): 0.0\n",
      "Specificity (Training): 1.0\n",
      "Confusion Matrix (Testing):\n",
      " [[ 62   1]\n",
      " [  2 106]]\n",
      "Sensitivity (Testing): 0.9814814814814815\n",
      "Specificity (Testing): 0.9841269841269841\n"
     ]
    }
   ],
   "source": [
    "def evaluate_model(y_true, y_pred):\n",
    "    cm = confusion_matrix(y_true, y_pred)\n",
    "    tn, fp, fn, tp = cm.ravel()\n",
    "    sensitivity = tp / (tp + fn)\n",
    "    specificity = tn / (tn + fp)\n",
    "    return cm, sensitivity, specificity\n",
    "\n",
    "cm_train, sensitivity_train, specificity_train = evaluate_model(y_train, y_pred_train)\n",
    "cm_test, sensitivity_test, specificity_test = evaluate_model(y_test, y_pred_test)\n",
    "\n",
    "print(\"Confusion Matrix (Training):\\n\", cm_train)\n",
    "print(\"Sensitivity (Training):\", sensitivity_train)\n",
    "print(\"Specificity (Training):\", specificity_train)\n",
    "\n",
    "print(\"Confusion Matrix (Testing):\\n\", cm_test)\n",
    "print(\"Sensitivity (Testing):\", sensitivity_test)\n",
    "print(\"Specificity (Testing):\", specificity_test)"
   ]
  },
  {
   "cell_type": "code",
   "execution_count": 29,
   "id": "4d608924-da2f-444d-a2f6-5a6f14b15b3c",
   "metadata": {},
   "outputs": [
    {
     "data": {
      "image/png": "[encoded data removed]",
      "text/plain": [
       "<Figure size 1000x600 with 1 Axes>"
      ]
     },
     "metadata": {},
     "output_type": "display_data"
    }
   ],
   "source": [
    "plt.figure(figsize=(10, 6))\n",
    "plt.plot(train_accuracies, label='Training Accuracy')\n",
    "plt.plot(test_accuracies, label='Testing Accuracy')\n",
    "plt.xlabel('Iteration Number')\n",
    "plt.ylabel('Accuracy')\n",
    "plt.legend()\n",
    "plt.show()"
   ]
  },
  {
   "cell_type": "code",
   "execution_count": null,
   "id": "f45456bf-6752-4350-a43d-89419ca889a2",
   "metadata": {},
   "outputs": [],
   "source": []
  },
  {
   "cell_type": "code",
   "execution_count": null,
   "id": "d68d2099-2a39-423c-9f22-c929fa812cbd",
   "metadata": {},
   "outputs": [],
   "source": []
  }
 ],
 "metadata": {
  "kernelspec": {
   "display_name": "Python 3 (ipykernel)",
   "language": "python",
   "name": "python3"
  },
  "language_info": {
   "codemirror_mode": {
    "name": "ipython",
    "version": 3
   },
   "file_extension": ".py",
   "mimetype": "text/x-python",
   "name": "python",
   "nbconvert_exporter": "python",
   "pygments_lexer": "ipython3",
   "version": "3.11.4"
  }
 },
 "nbformat": 4,
 "nbformat_minor": 5
}
