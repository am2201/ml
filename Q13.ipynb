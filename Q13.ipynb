{
 "cells": [
  {
   "cell_type": "code",
   "execution_count": 2,
   "id": "66116754-8868-47bd-86d5-7c3863f2024f",
   "metadata": {},
   "outputs": [
    {
     "name": "stdout",
     "output_type": "stream",
     "text": [
      "Input: [0 0 1], Predicted Output: 0\n",
      "Input: [0 1 1], Predicted Output: 0\n",
      "Input: [1 0 1], Predicted Output: 0\n",
      "Input: [1 1 1], Predicted Output: 1\n",
      "Learned weights: [ 0.17454012  0.35071431 -0.46800606]\n"
     ]
    }
   ],
   "source": [
    "import numpy as np\n",
    "\n",
    "# Define the AND dataset\n",
    "X = np.array([[0, 0, 1], [0, 1, 1], [1, 0, 1], [1, 1, 1]])\n",
    "y = np.array([0, 0, 0, 1])  # AND output labels\n",
    "\n",
    "# Initialize weights randomly\n",
    "np.random.seed(42)\n",
    "weights = np.random.rand(3)  # 3 weights for 3 input features\n",
    "\n",
    "# Set learning rate and number of iterations\n",
    "learning_rate = 0.1\n",
    "n_iters = 1000\n",
    "\n",
    "# Training the perceptron\n",
    "for _ in range(n_iters):\n",
    "    for i in range(len(X)):\n",
    "        # Compute the weighted sum\n",
    "        net_input = np.dot(X[i], weights)\n",
    "        # Apply step function (activation function)\n",
    "        prediction = 1 if net_input >= 0 else 0\n",
    "        # Update weights\n",
    "        weights += learning_rate * (y[i] - prediction) * X[i]\n",
    "\n",
    "# Test the trained perceptron\n",
    "test_data = np.array([[0, 0, 1], [0, 1, 1], [1, 0, 1], [1, 1, 1]])\n",
    "for data in test_data:\n",
    "    net_input = np.dot(data, weights)\n",
    "    prediction = 1 if net_input >= 0 else 0\n",
    "    print(f\"Input: {data[:3]}, Predicted Output: {prediction}\")\n",
    "\n",
    "# Print the learned weights\n",
    "print(f\"Learned weights: {weights}\")\n"
   ]
  },
  {
   "cell_type": "code",
   "execution_count": null,
   "id": "e3e591bd-b1dc-4240-a7ec-11501dc21d99",
   "metadata": {},
   "outputs": [],
   "source": []
  }
 ],
 "metadata": {
  "kernelspec": {
   "display_name": "Python 3 (ipykernel)",
   "language": "python",
   "name": "python3"
  },
  "language_info": {
   "codemirror_mode": {
    "name": "ipython",
    "version": 3
   },
   "file_extension": ".py",
   "mimetype": "text/x-python",
   "name": "python",
   "nbconvert_exporter": "python",
   "pygments_lexer": "ipython3",
   "version": "3.11.4"
  }
 },
 "nbformat": 4,
 "nbformat_minor": 5
}
