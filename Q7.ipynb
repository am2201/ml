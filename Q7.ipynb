{
 "cells": [
  {
   "cell_type": "code",
   "execution_count": 1,
   "id": "604d9403-4b96-4b4e-945d-23edec515311",
   "metadata": {},
   "outputs": [],
   "source": [
    "import pandas as pd\n",
    "import numpy as np\n",
    "\n",
    "adv = pd.read_csv(\"Advertising.csv\")\n",
    "\n",
    "X_tv = adv.iloc[:, 1].values.reshape(-1,1)\n",
    "X_radio = adv.iloc[:, 2].values.reshape(-1,1)\n",
    "X_np = adv.iloc[:, 3].values.reshape(-1,1)\n",
    "y = adv.iloc[:, -1].values.reshape(-1,1)"
   ]
  },
  {
   "cell_type": "code",
   "execution_count": 2,
   "id": "1236b27d-89d0-48ae-b7b8-d65aee110b3e",
   "metadata": {},
   "outputs": [],
   "source": [
    "def gradient_descent(X, y, learning_rate=0.0001, num_iterations=1000):\n",
    "    n = len(y)\n",
    "    coef = np.random.rand(X.shape[1], 1)\n",
    "    for _ in range(num_iterations):\n",
    "        y_pred = X.dot(coef)\n",
    "        error = y_pred - y\n",
    "        gradient = X.T.dot(error) / n\n",
    "        coef -= learning_rate * gradient\n",
    "    return coef\n",
    "\n",
    "# Fit models using gradient descent\n",
    "coef_tv = gradient_descent(X_tv, y)\n",
    "coef_radio = gradient_descent(X_radio, y)\n",
    "coef_newspaper = gradient_descent(X_np, y)"
   ]
  },
  {
   "cell_type": "code",
   "execution_count": 3,
   "id": "64b14505-3de3-4ba4-9440-fe79769de28c",
   "metadata": {},
   "outputs": [],
   "source": [
    "# Regression lines\n",
    "intercept_tv = coef_tv[0][0]\n",
    "intercept_radio = coef_radio[0][0]\n",
    "intercept_newspaper = coef_newspaper[0][0]"
   ]
  },
  {
   "cell_type": "code",
   "execution_count": 4,
   "id": "b500d5c5-1d25-43c1-b908-cfbf5dfb9260",
   "metadata": {},
   "outputs": [],
   "source": [
    "# Calculate R²\n",
    "def calculate_r2(y, y_pred):\n",
    "    total_variance = np.sum((y - np.mean(y))**2)\n",
    "    residual_variance = np.sum((y - y_pred)**2)\n",
    "    r2 = 1 - (residual_variance / total_variance)\n",
    "    return r2"
   ]
  },
  {
   "cell_type": "code",
   "execution_count": 5,
   "id": "5e891802-34ed-436e-a9fe-dd3b9cb3dd39",
   "metadata": {},
   "outputs": [
    {
     "name": "stdout",
     "output_type": "stream",
     "text": [
      "R² for TV/Sales: -inf\n",
      "R² for Radio/Sales: -0.5911\n",
      "R² for Newspaper/Sales: -1.8391\n"
     ]
    },
    {
     "name": "stderr",
     "output_type": "stream",
     "text": [
      "C:\\Users\\acer\\AppData\\Local\\Temp\\ipykernel_18608\\3907236464.py:4: RuntimeWarning: overflow encountered in square\n",
      "  residual_variance = np.sum((y - y_pred)**2)\n"
     ]
    }
   ],
   "source": [
    "y_pred_tv = X_tv.dot(coef_tv)\n",
    "y_pred_radio = X_radio.dot(coef_radio)\n",
    "y_pred_newspaper = X_np.dot(coef_newspaper)\n",
    "\n",
    "r2_tv = calculate_r2(y, y_pred_tv)\n",
    "r2_radio = calculate_r2(y, y_pred_radio)\n",
    "r2_newspaper = calculate_r2(y, y_pred_newspaper)\n",
    "\n",
    "# Print R² values\n",
    "print(f\"R² for TV/Sales: {r2_tv:.4f}\")\n",
    "print(f\"R² for Radio/Sales: {r2_radio:.4f}\")\n",
    "print(f\"R² for Newspaper/Sales: {r2_newspaper:.4f}\")"
   ]
  },
  {
   "cell_type": "code",
   "execution_count": null,
   "id": "7f6aadf7-60fc-4c32-b534-74a6542f71af",
   "metadata": {},
   "outputs": [],
   "source": []
  }
 ],
 "metadata": {
  "kernelspec": {
   "display_name": "Python 3 (ipykernel)",
   "language": "python",
   "name": "python3"
  },
  "language_info": {
   "codemirror_mode": {
    "name": "ipython",
    "version": 3
   },
   "file_extension": ".py",
   "mimetype": "text/x-python",
   "name": "python",
   "nbconvert_exporter": "python",
   "pygments_lexer": "ipython3",
   "version": "3.11.4"
  }
 },
 "nbformat": 4,
 "nbformat_minor": 5
}
